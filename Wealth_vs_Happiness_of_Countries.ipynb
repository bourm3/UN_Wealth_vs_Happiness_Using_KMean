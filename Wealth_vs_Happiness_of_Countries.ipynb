{
 "cells": [
  {
   "cell_type": "markdown",
   "metadata": {},
   "source": [
    "<h3>Happiness vs Averge Income by Country : Using K-Mean Clustering</h3>\n",
    "<br>I'm interested in seeing if there is a relationship between happiness and GDE (per capita). I'm  going to use K-Mean custering techniques and python, to carry out my analysis.\n",
    "\n",
    "Data for this analysis comes from the World Happiness Report - available from https://www.kaggle.com/unsdsn/world-happiness). The study ranks 155 countries by their happiness levels and was released by the United Nations.\n",
    "<p>\n",
    "First, I'm going to import the data from the downloaded csv file and put the data into a panda dataframe to view"
   ]
  },
  {
   "cell_type": "code",
   "execution_count": 95,
   "metadata": {
    "scrolled": true
   },
   "outputs": [
    {
     "data": {
      "text/html": [
       "<div>\n",
       "<style scoped>\n",
       "    .dataframe tbody tr th:only-of-type {\n",
       "        vertical-align: middle;\n",
       "    }\n",
       "\n",
       "    .dataframe tbody tr th {\n",
       "        vertical-align: top;\n",
       "    }\n",
       "\n",
       "    .dataframe thead th {\n",
       "        text-align: right;\n",
       "    }\n",
       "</style>\n",
       "<table border=\"1\" class=\"dataframe\">\n",
       "  <thead>\n",
       "    <tr style=\"text-align: right;\">\n",
       "      <th></th>\n",
       "      <th>country</th>\n",
       "      <th>adjusted_satisfaction</th>\n",
       "      <th>avg_satisfaction</th>\n",
       "      <th>std_satisfaction</th>\n",
       "      <th>avg_income</th>\n",
       "      <th>median_income</th>\n",
       "      <th>income_inequality</th>\n",
       "      <th>region</th>\n",
       "      <th>happyScore</th>\n",
       "      <th>GDP</th>\n",
       "      <th>country.1</th>\n",
       "    </tr>\n",
       "  </thead>\n",
       "  <tbody>\n",
       "    <tr>\n",
       "      <th>0</th>\n",
       "      <td>Armenia</td>\n",
       "      <td>37.0</td>\n",
       "      <td>4.9</td>\n",
       "      <td>2.42</td>\n",
       "      <td>2096.76</td>\n",
       "      <td>1731.506667</td>\n",
       "      <td>31.445556</td>\n",
       "      <td>'Central and Eastern Europe'</td>\n",
       "      <td>4.350</td>\n",
       "      <td>0.76821</td>\n",
       "      <td>Armenia</td>\n",
       "    </tr>\n",
       "    <tr>\n",
       "      <th>1</th>\n",
       "      <td>Angola</td>\n",
       "      <td>26.0</td>\n",
       "      <td>4.3</td>\n",
       "      <td>3.19</td>\n",
       "      <td>1448.88</td>\n",
       "      <td>1044.240000</td>\n",
       "      <td>42.720000</td>\n",
       "      <td>'Sub-Saharan Africa'</td>\n",
       "      <td>4.033</td>\n",
       "      <td>0.75778</td>\n",
       "      <td>Angola</td>\n",
       "    </tr>\n",
       "    <tr>\n",
       "      <th>2</th>\n",
       "      <td>Argentina</td>\n",
       "      <td>60.0</td>\n",
       "      <td>7.1</td>\n",
       "      <td>1.91</td>\n",
       "      <td>7101.12</td>\n",
       "      <td>5109.400000</td>\n",
       "      <td>45.475556</td>\n",
       "      <td>'Latin America and Caribbean'</td>\n",
       "      <td>6.574</td>\n",
       "      <td>1.05351</td>\n",
       "      <td>Argentina</td>\n",
       "    </tr>\n",
       "    <tr>\n",
       "      <th>3</th>\n",
       "      <td>Austria</td>\n",
       "      <td>59.0</td>\n",
       "      <td>7.2</td>\n",
       "      <td>2.11</td>\n",
       "      <td>19457.04</td>\n",
       "      <td>16879.620000</td>\n",
       "      <td>30.296250</td>\n",
       "      <td>'Western Europe'</td>\n",
       "      <td>7.200</td>\n",
       "      <td>1.33723</td>\n",
       "      <td>Austria</td>\n",
       "    </tr>\n",
       "    <tr>\n",
       "      <th>4</th>\n",
       "      <td>Australia</td>\n",
       "      <td>65.0</td>\n",
       "      <td>7.6</td>\n",
       "      <td>1.80</td>\n",
       "      <td>19917.00</td>\n",
       "      <td>15846.060000</td>\n",
       "      <td>35.285000</td>\n",
       "      <td>'Australia and New Zealand'</td>\n",
       "      <td>7.284</td>\n",
       "      <td>1.33358</td>\n",
       "      <td>Australia</td>\n",
       "    </tr>\n",
       "  </tbody>\n",
       "</table>\n",
       "</div>"
      ],
      "text/plain": [
       "     country  adjusted_satisfaction  avg_satisfaction  std_satisfaction  \\\n",
       "0    Armenia                   37.0               4.9              2.42   \n",
       "1     Angola                   26.0               4.3              3.19   \n",
       "2  Argentina                   60.0               7.1              1.91   \n",
       "3    Austria                   59.0               7.2              2.11   \n",
       "4  Australia                   65.0               7.6              1.80   \n",
       "\n",
       "   avg_income  median_income  income_inequality  \\\n",
       "0     2096.76    1731.506667          31.445556   \n",
       "1     1448.88    1044.240000          42.720000   \n",
       "2     7101.12    5109.400000          45.475556   \n",
       "3    19457.04   16879.620000          30.296250   \n",
       "4    19917.00   15846.060000          35.285000   \n",
       "\n",
       "                          region  happyScore      GDP  country.1  \n",
       "0   'Central and Eastern Europe'       4.350  0.76821    Armenia  \n",
       "1           'Sub-Saharan Africa'       4.033  0.75778     Angola  \n",
       "2  'Latin America and Caribbean'       6.574  1.05351  Argentina  \n",
       "3               'Western Europe'       7.200  1.33723    Austria  \n",
       "4    'Australia and New Zealand'       7.284  1.33358  Australia  "
      ]
     },
     "execution_count": 95,
     "metadata": {},
     "output_type": "execute_result"
    }
   ],
   "source": [
    "import pandas as pd\n",
    "data = pd.read_csv('happy.csv')\n",
    "data.head(5)"
   ]
  },
  {
   "cell_type": "markdown",
   "metadata": {},
   "source": [
    "Next I going to create two subdatasets, happy and income from columns of the spreadsheet. <br>\n",
    "Whats the maximum income in the dataset?"
   ]
  },
  {
   "cell_type": "code",
   "execution_count": 97,
   "metadata": {},
   "outputs": [
    {
     "data": {
      "text/plain": [
       "26182.275"
      ]
     },
     "execution_count": 97,
     "metadata": {},
     "output_type": "execute_result"
    }
   ],
   "source": [
    "happy = data['happyScore']\n",
    "income = data['avg_income']\n",
    "income.max()"
   ]
  },
  {
   "cell_type": "markdown",
   "metadata": {},
   "source": [
    "Now, its time to plot the data using matlablib"
   ]
  },
  {
   "cell_type": "code",
   "execution_count": 99,
   "metadata": {},
   "outputs": [
    {
     "data": {
      "text/plain": [
       "<matplotlib.collections.PathCollection at 0x1218c1a10>"
      ]
     },
     "execution_count": 99,
     "metadata": {},
     "output_type": "execute_result"
    },
    {
     "data": {
      "image/png": "[encoded data removed]",
      "text/plain": [
       "<Figure size 432x288 with 1 Axes>"
      ]
     },
     "metadata": {
      "needs_background": "light"
     },
     "output_type": "display_data"
    }
   ],
   "source": [
    "import matplotlib.pyplot as plt\n",
    "\n",
    "plt.xlabel('Average Income ($)')\n",
    "plt.ylabel('Happiness Index')\n",
    "plt.scatter(income,happy)"
   ]
  },
  {
   "cell_type": "markdown",
   "metadata": {},
   "source": [
    "The following sections, sorts the data from richest to poorest\n",
    "and then creating a subset of the richest countries"
   ]
  },
  {
   "cell_type": "code",
   "execution_count": 105,
   "metadata": {},
   "outputs": [
    {
     "name": "stdout",
     "output_type": "stream",
     "text": [
      "17500.31535714286 6442.751416214639\n"
     ]
    }
   ],
   "source": [
    "import numpy as np\n",
    "\n",
    "data.sort_values('avg_income', inplace=True)\n",
    "\n",
    "richest = data[ data['avg_income'] > 10000]\n",
    "\n",
    "richest_mean = np.mean(richest['avg_income'])\n",
    "all_mean = np.mean(data['avg_income'])\n",
    "\n",
    "print(richest_mean, all_mean)"
   ]
  },
  {
   "cell_type": "markdown",
   "metadata": {},
   "source": [
    "Next I'm going to pot this 'richest' subset and label the richest few countries. Interestingly the richest few countries arent all the happiest - although Norway and Switzerland are doing something right!"
   ]
  },
  {
   "cell_type": "code",
   "execution_count": 106,
   "metadata": {},
   "outputs": [
    {
     "data": {
      "text/plain": [
       "Text(0, 0.5, 'Happiness Index')"
      ]
     },
     "execution_count": 106,
     "metadata": {},
     "output_type": "execute_result"
    },
    {
     "data": {
      "image/png": "[encoded data removed]",
      "text/plain": [
       "<Figure size 432x288 with 1 Axes>"
      ]
     },
     "metadata": {
      "needs_background": "light"
     },
     "output_type": "display_data"
    }
   ],
   "source": [
    "#plot the richest countries\n",
    "plt.scatter(richest['avg_income'], \n",
    "            richest['happyScore'])\n",
    "\n",
    "#label the richest 5 countries\n",
    "for x in range(-1,-6,-1):\n",
    "    plt.text(richest.iloc[x]['avg_income'], \n",
    "            richest.iloc[x]['happyScore'],\n",
    "          richest.iloc[x]['country'] )\n",
    "plt.xlabel('Average Income ($)')\n",
    "plt.ylabel('Happiness Index')"
   ]
  },
  {
   "cell_type": "markdown",
   "metadata": {},
   "source": [
    "Finally, going to use K-Mean clusting on the dataset, with 2 centers and then plot."
   ]
  },
  {
   "cell_type": "code",
   "execution_count": 185,
   "metadata": {},
   "outputs": [
    {
     "data": {
      "text/plain": [
       "Text(572.88, 2.905, 'Burundi')"
      ]
     },
     "execution_count": 185,
     "metadata": {},
     "output_type": "execute_result"
    },
    {
     "data": {
      "image/png": "[encoded data removed]",
      "text/plain": [
       "<Figure size 720x576 with 1 Axes>"
      ]
     },
     "metadata": {
      "needs_background": "light"
     },
     "output_type": "display_data"
    }
   ],
   "source": [
    "from sklearn.cluster import KMeans\n",
    "import numpy as np\n",
    "\n",
    "#combine the income and happy lists into one\n",
    "happy_gdp = np.column_stack((income, happy))\n",
    "\n",
    "#run KMeans with 3 cluster points\n",
    "km_res = KMeans(n_clusters=3).fit(happy_gdp)\n",
    "\n",
    "#assign x,y coords of clusters\n",
    "clusters = km_res.cluster_centers_\n",
    "\n",
    "#create plot\n",
    "plt.figure(figsize=(10,8))\n",
    "plt.scatter(income,happy)\n",
    "plt.scatter(clusters[:,0], clusters[:,1], s=200)\n",
    "plt.xlabel('Average Income (in $US)')\n",
    "plt.ylabel('Happiness Index')\n",
    "\n",
    "#Divide Dataset by Region\n",
    "westeurope = data[ data['region'] == \"'Western Europe'\"]\n",
    "easteurope = data[ data['region'] == \"'Central and Eastern Europe'\"]\n",
    "africa = data[ data['region'] == \"'Sub-Saharan Africa'\" ]\n",
    "me = data[ data['region'] == \"'Middle East and Northern Africa'\" ]\n",
    "asia = data[ data['region'] == \"'Southeastern Asia'\" ]\n",
    "sasia = data[ data['region'] == \"'Southern Asia'\" ]\n",
    "easia = data[ data['region'] == \"'Eastern Asia'\" ]\n",
    "sa = data[ data['region'] == \"'Latin America and Caribbean'\"]\n",
    "na = data[ data['region'] == \"'North America'\" ]\n",
    "\n",
    "\n",
    "#Plot data by Region\n",
    "we = plt.scatter(westeurope['avg_income'], westeurope['happyScore'], s=50)\n",
    "ee = plt.scatter(easteurope['avg_income'], easteurope['happyScore'], s=50)\n",
    "a = plt.scatter(africa['avg_income'], africa['happyScore'], s=50)\n",
    "me = plt.scatter(me['avg_income'], me['happyScore'], s=50)\n",
    "asia = plt.scatter(asia['avg_income'], asia['happyScore'], s=50)\n",
    "sasia = plt.scatter(sasia['avg_income'], sasia['happyScore'], s=50)\n",
    "easia = plt.scatter(easia['avg_income'], easia['happyScore'], s=50)\n",
    "na = plt.scatter(na['avg_income'], na['happyScore'], s=50)\n",
    "sa = plt.scatter(sa['avg_income'], sa['happyScore'], s=50)\n",
    "plt.legend((we,ee,a, me,asia,sasia,easia,na,sa),\n",
    "           ('Western Europe',\"Eastern Europe\",\n",
    "           'Sub-Saharan Africa','Middle East and N Africa', \n",
    "            'Southeastern Asia', 'Southern Asia', 'Eastern Asia',\n",
    "           'North America', 'South America')\n",
    "          )\n",
    "\n",
    "\n",
    "#labelling the outliers\n",
    "\n",
    "#the richess country \n",
    "plt.text(richest.iloc[-1]['avg_income'], \n",
    "            richest.iloc[-1]['happyScore'],\n",
    "          richest.iloc[-1]['country'] )\n",
    "\n",
    "#two countries with happiness much lower than average income\n",
    "plt.text(data.iloc[89]['avg_income'], \n",
    "            data.iloc[89]['happyScore'],\n",
    "          data.iloc[89]['country'] )\n",
    "\n",
    "plt.text(data.iloc[86]['avg_income'], \n",
    "            data.iloc[86]['happyScore'],\n",
    "          data.iloc[86]['country'] )\n",
    "\n",
    "#3 countries with happiness much higher than average income would suggest\n",
    "plt.text(data.iloc[59]['avg_income'], \n",
    "            data.iloc[59]['happyScore'],\n",
    "          data.iloc[59]['country'] )\n",
    "\n",
    "plt.text(data.iloc[88]['avg_income'], \n",
    "            data.iloc[88]['happyScore'],\n",
    "          data.iloc[88]['country'] )\n",
    "\n",
    "plt.text(data.iloc[75]['avg_income'], \n",
    "            data.iloc[75]['happyScore'],\n",
    "          data.iloc[75]['country'] )\n",
    "\n",
    "#the two countries with the lowest happiness (and lowest income)\n",
    "plt.text(data.iloc[10]['avg_income'], \n",
    "            data.iloc[10]['happyScore'],\n",
    "          data.iloc[10]['country'] )\n",
    "\n",
    "plt.text(data.iloc[0]['avg_income'], \n",
    "            data.iloc[0]['happyScore'],\n",
    "          data.iloc[0]['country'] )"
   ]
  },
  {
   "cell_type": "markdown",
   "metadata": {},
   "source": [
    "Overall, there does seem to be a trend between the happiness and average income in US$.\n",
    "<p>\n",
    "There are a number of interesting points of interest on the diagram. The richest country was Luxembourg but it was not the happiest - the happiest countries had an average income around the 20k mark. Portugal and Greece were significantly lower on the happiness score than their income would suggest - is this because of the hangover from the financial crash of 2008-2009? Mexico, Costa Rica and Israel were much happier than their income would suggest, whilst both Burundi and Togo were way off the scale for income and also happiness."
   ]
  },
  {
   "cell_type": "markdown",
   "metadata": {},
   "source": [
    "Three clsuters of countries have been identified (shown as large orange circles). These can be characterised as:\n",
    "    (i) poor and unhappy countries (e.g Togo)\n",
    "    (ii) relatively poor but happy countries (e.g. Mexico)\n",
    "    (iii) rich and happy countries (e.g. Luxenbourg)"
   ]
  },
  {
   "cell_type": "code",
   "execution_count": null,
   "metadata": {},
   "outputs": [],
   "source": []
  }
 ],
 "metadata": {
  "kernelspec": {
   "display_name": "Python 3",
   "language": "python",
   "name": "python3"
  },
  "language_info": {
   "codemirror_mode": {
    "name": "ipython",
    "version": 3
   },
   "file_extension": ".py",
   "mimetype": "text/x-python",
   "name": "python",
   "nbconvert_exporter": "python",
   "pygments_lexer": "ipython3",
   "version": "3.7.6"
  }
 },
 "nbformat": 4,
 "nbformat_minor": 4
}
